{
 "cells": [
  {
   "cell_type": "markdown",
   "metadata": {},
   "source": [
    "## MLE (Maximum Likelihood Estimator) of the mean and the variance of a Gaussian"
   ]
  },
  {
   "cell_type": "markdown",
   "metadata": {},
   "source": [
    "The objectif of this exercice is to derive and compute the MLE parameters for a Gaussian distribution. I.e.,\n",
    "\n",
    "$$\\theta:=(\\mu,\\sigma^2) $$"
   ]
  },
  {
   "cell_type": "code",
   "execution_count": 28,
   "metadata": {},
   "outputs": [],
   "source": [
    "## First import all necessary libraries for the exercice\n",
    "\n",
    "import numpy as np\n",
    "import matplotlib.pyplot as plt\n",
    "from scipy.stats import chi2\n",
    "from scipy.stats import norm\n",
    "plt.style.use('seaborn-white')"
   ]
  },
  {
   "cell_type": "markdown",
   "metadata": {},
   "source": [
    "First let's remember the density function of a Gaussian.\n",
    "\n",
    "Let $ X_1,...X_n \\overset{iid}{\\sim} N(\\mu,\\sigma^2)$ where $ \\mu \\in \\mathbb{R}$ for $n \\geq 2 $. The density funcion is determined by:\n",
    "\n",
    "\n",
    "\n",
    "\n",
    "$$P(X_i) = \\frac{1}{{\\sqrt{2 \\pi \\sigma^2 }}} \\exp \\left[-\\frac{1}{2\\sigma^2} (X_i-u)^2 \\right] $$\n",
    "\n",
    "\n",
    "\n",
    "\n"
   ]
  },
  {
   "cell_type": "markdown",
   "metadata": {},
   "source": [
    "Now let's derive the MLE (Maximum Likelihood Estimator) for the parameter $\\mu$ and $\\sigma$:\n",
    "\n",
    "Let's begin deriving $\\mu$:\n",
    "\n",
    "$$P(X_1,...,X_n)= \\prod_{i=1}^{n} P(X_i|\\mu,\\sigma^2) = \\prod_{i=1}^{n} \\frac{1}{{\\sqrt {2\\pi\\sigma^2} }} \\exp \\left[ -\\frac{1}{2\\sigma^2}(X_i-u)^2 \\right]  $$\n",
    "\n",
    "$$log P(X_1,...,X_n) = \\sum_{i=1}^{n} \\left( -\\frac{1}{2} \\log (2\\pi\\sigma^2) -   \\frac{1}{2\\sigma^2}(X_i-\\mu) \\right)  = -\\frac{n}{2} \\log (2\\pi\\sigma^2) -   \\frac{1}{2\\sigma^2} \\sum_{i=1}^{n}(X_i-\\mu)^2 $$\n",
    "\n",
    "Now if we compute the derivative w.r.t $\\mu$, to obtain the MLE estimator $\\hat\\mu$:\n",
    "\n",
    "$$ \\frac{1}{\\sigma^2} \\sum_{i=1}^{n}(X_i-\\mu) = 0  $$\n",
    "\n",
    "$$ \\sum_{i=1}^{n} X_i  - \\sum_{i=1}^{n} \\mu = 0 $$\n",
    "\n",
    "\n",
    "$$ \\hat{\\mu} = \\frac {1}{n}\\sum_{i=1}^{n} X_i = \\overline{X}  $$\n"
   ]
  },
  {
   "cell_type": "markdown",
   "metadata": {},
   "source": [
    "Thus, we can derive the expresion for MLE estimator $\\hat{\\sigma}^2$ deriving the expression w.r.t $\\sigma^2$:\n",
    "\n",
    "$$ -\\frac{n}{2} log(2 \\pi) - \\frac{n}{2} log(\\sigma^2) - \\frac{ (\\sigma^2)^{-1}}{2} \\sum_{i=1}^{n}(X_i-\\overline{X})^2 = 0 $$"
   ]
  },
  {
   "cell_type": "markdown",
   "metadata": {},
   "source": [
    "$$ -\\frac{n}{2 \\sigma^2} + \\frac{(\\sigma^2)^{-2}}{2} \\sum_{i=1}^{n}(X_i-\\overline{X})^2 = 0  $$\n"
   ]
  },
  {
   "cell_type": "markdown",
   "metadata": {},
   "source": [
    "$$ -\\frac{n}{2 \\sigma^2} + \\frac{1}{2(\\sigma^2)^{2}} \\sum_{i=1}^{n}(X_i-\\overline{X})^2 = 0  $$"
   ]
  },
  {
   "cell_type": "markdown",
   "metadata": {},
   "source": [
    "$$  \\frac{1}{\\sigma^2}  (-n + \\frac{1}{\\sigma^2} \\sum_{i=1}^{n}(X_i-\\overline{X})^2) = 0  $$"
   ]
  },
  {
   "cell_type": "markdown",
   "metadata": {},
   "source": [
    "$$  \\frac{1}{n} \\sum_{i=1}^{n}(X_i-\\overline{X})^2 = \\hat{\\sigma}^2  $$"
   ]
  },
  {
   "cell_type": "markdown",
   "metadata": {},
   "source": [
    "Now we can verify if our parameters are biased and consistent:\n",
    "\n",
    "First we compute the expected value of $\\hat{\\mu}$:\n",
    "\n",
    "$$ E[\\hat{\\mu}] = E \\left[\\frac {1}{n}\\sum_{i=1}^{n} X_i \\right] = \\frac {1}{n}\\sum_{i=1}^{n} E [X_i] = \\frac{n}{n} E [X_i] = \\mu  $$\n",
    "\n",
    "\n",
    "\n"
   ]
  },
  {
   "cell_type": "markdown",
   "metadata": {},
   "source": [
    "Thus:\n",
    "\n",
    "$$E[\\hat{\\mu}] - \\mu = \\mu - \\mu = 0 $$\n",
    "\n",
    "We can conclude that the parameter is unbiased. "
   ]
  },
  {
   "cell_type": "markdown",
   "metadata": {},
   "source": [
    "Now let's compute tha variance of $\\hat{\\mu}$ we have that:\n",
    "\n",
    "$$Var[\\hat{\\mu}] =  Var \\left[\\frac {1}{n}\\sum_{i=1}^{n} X_i \\right] $$"
   ]
  },
  {
   "cell_type": "markdown",
   "metadata": {},
   "source": [
    "Note that the sum of the variance of $X_i$ is equal to the variance of the sum of $X_i$. Thus: \n",
    "\n",
    "\n",
    "$$ = \\frac {1}{n^2}\\sum_{i=1}^{n}  Var \\left[ X \\right]$$"
   ]
  },
  {
   "cell_type": "markdown",
   "metadata": {},
   "source": [
    "$$ = \\frac {n}{n^2}  Var \\left[ X \\right]$$"
   ]
  },
  {
   "cell_type": "markdown",
   "metadata": {},
   "source": [
    "$$ = \\frac{\\sigma^2}{n} $$\n",
    "\n",
    "Thus, we can conclude that this estimator is consistent as variance of $\\hat{\\mu}$ becomes 0 as n $\\rightarrow$ $\\infty$"
   ]
  },
  {
   "cell_type": "markdown",
   "metadata": {},
   "source": [
    "Now let's compute the expected value of the variance:\n",
    "\n",
    "$$ E[\\hat{\\sigma}^2] = E \\left[\\frac{1}{n} \\sum_{i=1}^{n}(X_i-\\overline{X})^2 \\right] $$"
   ]
  },
  {
   "cell_type": "markdown",
   "metadata": {},
   "source": [
    "$$= \\frac{1}{n} E \\left[\\sum_{i=1}^{n}(X_i-\\overline{X})(X_i-\\overline{X}) \\right] $$"
   ]
  },
  {
   "cell_type": "markdown",
   "metadata": {},
   "source": [
    "$$ = \\frac{1}{n} E \\left[\\sum_{i=1}^{n} \\left( X_i^2 - X_i\\overline{X} - X_i \\overline{X} + \\overline{X}^2   \\right)  \\right] $$\n",
    "\n",
    "$$ = \\frac{1}{n} E \\left[\\sum_{i=1}^{n} \\left( X_i^2 - 2 X_i \\overline{X} + \\overline{X}^2   \\right)  \\right] $$"
   ]
  },
  {
   "cell_type": "markdown",
   "metadata": {},
   "source": [
    "$$ = \\frac{1}{n} E \\left[ \\left( \\sum_{i=1}^{n}X_i^2 - 2 \\sum_{i=1}^{n} X_i \\overline{X} + \\sum_{i=1}^{n}\\overline{X}^2   \\right)  \\right] $$"
   ]
  },
  {
   "cell_type": "markdown",
   "metadata": {},
   "source": [
    "$$ = \\frac{1}{n} E \\left[ \\left( \\sum_{i=1}^{n}X_i^2 - 2 n \\overline{X}  \\overline{X} + n\\overline{X}^2   \\right)  \\right] $$"
   ]
  },
  {
   "cell_type": "markdown",
   "metadata": {},
   "source": [
    "$$ = \\frac{1}{n} E \\left[ \\left( \\sum_{i=1}^{n}X_i^2 - 2 n \\overline{X}^2 + n\\overline{X}^2   \\right)  \\right] $$"
   ]
  },
  {
   "cell_type": "markdown",
   "metadata": {},
   "source": [
    "$$ = \\frac{1}{n} E \\left[ \\left( \\sum_{i=1}^{n}X_i^2 - n \\overline{X}^2 \\right)  \\right] $$"
   ]
  },
  {
   "cell_type": "markdown",
   "metadata": {},
   "source": [
    "$$ = \\frac{1}{n} \\left(  \\sum_{i=1}^{n} E[ X^2]  - n E[\\overline{X}^2] \\right) $$"
   ]
  },
  {
   "cell_type": "markdown",
   "metadata": {},
   "source": [
    "$$ = \\frac{n}{n} \\left(E[ X^2]  - E[\\overline{X}^2] \\right) $$"
   ]
  },
  {
   "cell_type": "markdown",
   "metadata": {},
   "source": [
    "$$= E[ X^2]  - E[\\overline{X}^2]$$"
   ]
  },
  {
   "cell_type": "markdown",
   "metadata": {},
   "source": [
    "We know that the variance formula is defined by:\n",
    "\n",
    "$$ Var[X] = E[X^2] - E[X]^2 $$"
   ]
  },
  {
   "cell_type": "markdown",
   "metadata": {},
   "source": [
    "Thus, we have that:\n",
    "    \n",
    "$$ E[\\hat{\\sigma}^2] = Var[X] + E[X]^2 - ( Var[\\overline{X}] + E[\\overline{X}]^2  )  $$"
   ]
  },
  {
   "cell_type": "markdown",
   "metadata": {},
   "source": [
    "$$ = Var[X] + E[X]^2 - ( Var[\\overline{X}] + E[\\overline{X}]^2) $$"
   ]
  },
  {
   "cell_type": "markdown",
   "metadata": {},
   "source": [
    "$$ = Var[X] + E[X]^2 -  Var[\\overline{X}] - E[\\overline{X}]^2 $$"
   ]
  },
  {
   "cell_type": "markdown",
   "metadata": {},
   "source": [
    "$$ = Var[X] -  Var[\\overline{X}]$$"
   ]
  },
  {
   "cell_type": "markdown",
   "metadata": {},
   "source": [
    "$$ = \\sigma^2  -  Var \\left[\\frac {1}{n}\\sum_{i=1}^{n} X_i \\right]$$"
   ]
  },
  {
   "cell_type": "markdown",
   "metadata": {},
   "source": [
    "$$ = \\sigma^2  -  Var \\left[\\frac {1}{n}\\sum_{i=1}^{n} X_i \\right]$$"
   ]
  },
  {
   "cell_type": "markdown",
   "metadata": {},
   "source": [
    "Note that the sum of the variance of $X_i$ is equal to the variance of the sum of $X_i$. Thus: \n",
    "\n",
    "$$ = \\sigma^2  -  \\frac {1}{n^2} \\sum_{i=1}^{n} Var \\left[X \\right]$$"
   ]
  },
  {
   "cell_type": "markdown",
   "metadata": {},
   "source": [
    "$$ = \\sigma^2  -  \\frac {n}{n^2} Var \\left[X \\right]$$"
   ]
  },
  {
   "cell_type": "markdown",
   "metadata": {},
   "source": [
    "$$ = \\sigma^2  -  \\frac {1}{n} Var \\left[X \\right]$$"
   ]
  },
  {
   "cell_type": "markdown",
   "metadata": {},
   "source": [
    "$$ = \\sigma^2  -  \\frac {1}{n} \\sigma^2$$"
   ]
  },
  {
   "cell_type": "markdown",
   "metadata": {},
   "source": [
    "$$ \\sigma^2 \\frac{n-1}{n} =\\sigma^2 - \\frac{\\sigma^2}{n} $$\n",
    "\n",
    "Notice that the bias of $\\hat{\\sigma}^2$ is:\n",
    "\n",
    "$$- \\frac{\\sigma^2}{n}$$"
   ]
  },
  {
   "cell_type": "markdown",
   "metadata": {},
   "source": [
    "Now, we can compute the variance of $\\sigma^2$:\n",
    "\n",
    "$$ Var[\\sigma^2] =  Var \\left[\\frac{1}{n} \\sum_{i=1}^{n}(X_i-\\overline{X})^2 \\right]  $$"
   ]
  },
  {
   "cell_type": "markdown",
   "metadata": {},
   "source": [
    "$$ = Var \\left[\\frac{1}{n} \\sum_{i=1}^{n}(X_i-\\overline{X})^2 \\right] $$"
   ]
  },
  {
   "cell_type": "markdown",
   "metadata": {},
   "source": [
    "$$ = \\frac{1}{n^2} \\sum_{i=1}^{n} Var \\left[(X_i-\\overline{X})^2 \\right] $$"
   ]
  },
  {
   "cell_type": "markdown",
   "metadata": {},
   "source": [
    "$$ = \\frac{1}{n^2}  Var \\left[ \\frac{\\sigma^2}{\\sigma^2} \\sum_{i=1}^{n} (X_i-\\overline{X})^2 \\right] $$"
   ]
  },
  {
   "cell_type": "markdown",
   "metadata": {},
   "source": [
    "$$ = \\frac{\\sigma^4}{n^2}  Var \\left[ \\frac{1}{\\sigma^2} \\sum_{i=1}^{n} (X_i-\\overline{X})^2 \\right] $$"
   ]
  },
  {
   "cell_type": "markdown",
   "metadata": {},
   "source": [
    "Note that $\\frac{1}{\\sigma^2} \\sum_{i=1}^{n} (X_i-\\overline{X})^2 \\stackrel{d}{=} \\chi_{n-1}^2 $ where  $\\chi_{n-1}^2$ is the chi-squared distribution with (n-1) degrees of freedom, and that $Var[\\chi_{n-1}^2] = 2(n-1)$.\n",
    "\n",
    "Thus, we have that:\n",
    "\n",
    "$$ = \\frac{\\sigma^4}{n^2}  Var \\left[ \\chi_{n-1}^2 \\right] $$\n",
    "\n",
    "$$ = \\frac{\\sigma^4}{n^2}  2(n-1) $$\n"
   ]
  },
  {
   "cell_type": "markdown",
   "metadata": {},
   "source": [
    "Both estimators are consistent as:\n",
    "\n",
    "$$ E[\\hat{\\sigma}^2] = \\lim_{n\\to\\infty}  \\sigma^2 * \\frac{n-1}{n} = \\sigma^2 $$"
   ]
  },
  {
   "cell_type": "markdown",
   "metadata": {},
   "source": [
    "\n",
    "\n",
    "$$Var[\\hat{\\sigma}^2] = \\lim_{n\\to\\infty} \\frac{\\sigma^4}{n^2}  2(n-1) = 0 $$\n",
    "\n",
    "As n increases, we converge to the true parameter and the variance goes to 0.\n"
   ]
  },
  {
   "cell_type": "markdown",
   "metadata": {},
   "source": [
    "Given that we know our parameters we are going to numerically explore the MLE (maximum likelihood estimator) of the mean and variance parameters of the Gaussian.\n",
    "\n",
    "Let's draw $n = 5$ samples from the standard Gaussian distribution, $\\mathcal{N}(0, 1)$, to illustrate how to create a random sample X:"
   ]
  },
  {
   "cell_type": "code",
   "execution_count": 20,
   "metadata": {},
   "outputs": [
    {
     "name": "stdout",
     "output_type": "stream",
     "text": [
      "Random sample X with n=5:  [ 1.12924156 -0.03021803  0.13820665 -0.20243381 -1.7800689 ]\n"
     ]
    }
   ],
   "source": [
    "n = 5\n",
    "X = np.random.randn(n)\n",
    "print(\"Random sample X with n=5: \",X)"
   ]
  },
  {
   "cell_type": "markdown",
   "metadata": {},
   "source": [
    "We are going to compute the ML estimate $\\hat{\\mu}$ for the mean and $\\hat{\\sigma}^2$ for the variance of the Gaussian using the formulas derived above:\n",
    "\n",
    "$$ \\hat{\\mu} = \\frac{1}{n} \\sum_{i=1}^n x_i \\hspace{10mm} \\hat{\\sigma}^2 = \\frac{1}{n} \\sum_{i=1}^n (x_i - \\hat{\\mu})^2$$"
   ]
  },
  {
   "cell_type": "markdown",
   "metadata": {},
   "source": [
    "Let's plot a histogram of the 10,000 estimates of the Gaussian mean and variance parameter to show its empirical distribution."
   ]
  },
  {
   "cell_type": "code",
   "execution_count": 22,
   "metadata": {},
   "outputs": [],
   "source": [
    "n = 5\n",
    "trials = 10000\n",
    "X = np.random.randn(n, trials)\n",
    "\n",
    "## If we want to change the scale mu and sigma parameters\n",
    "# sigma = 2\n",
    "# mu = 10\n",
    "# X = sigma * np.random.randn(n,trials) + mu\n",
    "\n",
    "mu_hat = np.mean(X, axis=0, keepdims=True)\n",
    "sigma2_hat = np.mean((X - mu_hat)**2, axis=0, keepdims=True)"
   ]
  },
  {
   "cell_type": "code",
   "execution_count": 86,
   "metadata": {},
   "outputs": [
    {
     "data": {
      "image/png": "[encoded data removed]",
      "text/plain": [
       "<Figure size 432x288 with 1 Axes>"
      ]
     },
     "metadata": {},
     "output_type": "display_data"
    }
   ],
   "source": [
    "## Illustration of the Central limit theorem.\n",
    "## The distribution of means is normaly distributed with mean û\n",
    "\n",
    "plt.figure(figsize=(6, 4))\n",
    "\n",
    "# Plot histogram with custom bins for readability.\n",
    "plt.hist(mu_hat[0], bins=200, alpha=0.8, label=r'$\\hat{\\mu}$' +' histogram');\n",
    "plt.ylabel('Counts')\n",
    "plt.xlabel(r'$\\hat{\\mu}$')\n",
    "\n",
    "\n",
    "\n",
    "s_data = np.linspace(mu_hat.min(), mu_hat.max(), 100)\n",
    "s_pdf = 500*norm(0,1).pdf(s_data*n)\n",
    "plt.plot(s_data, s_pdf, 'k-', lw=2, alpha=0.6, label='Scaled pdf of ' + r'$\\hat{\\mu}$');\n",
    "plt.legend();"
   ]
  },
  {
   "cell_type": "markdown",
   "metadata": {},
   "source": [
    "Note that as the central limit theorem states, the distribution of empirical means is normaly distributed with mean $\\mu$.\n",
    "\n",
    "source: https://en.wikipedia.org/wiki/Central_limit_theorem"
   ]
  },
  {
   "cell_type": "markdown",
   "metadata": {},
   "source": [
    "Now let's plot the empirical distribution of $\\hat{\\sigma}$ :"
   ]
  },
  {
   "cell_type": "code",
   "execution_count": 25,
   "metadata": {},
   "outputs": [
    {
     "data": {
      "image/png": "[encoded data removed]",
      "text/plain": [
       "<Figure size 432x288 with 1 Axes>"
      ]
     },
     "metadata": {},
     "output_type": "display_data"
    }
   ],
   "source": [
    "plt.figure(figsize=(6, 4))\n",
    "\n",
    "# Plot histogram with custom bins for readability.\n",
    "plt.hist(sigma2_hat[0], bins=200, alpha=0.8, label=r'$\\hat{\\sigma}$' +' histogram');\n",
    "plt.ylabel('Counts')\n",
    "plt.xlabel(r'$\\hat{\\sigma^2}$')\n",
    "\n",
    "# Plot the pdf of a Chi^2 distribution with n-1 degrees of freedom, scaled for \n",
    "# better readability. Note that this is the distribution of n * sigma2_hat. \n",
    "# Relate this to the dilation of the *input* done in line 10 \"s_data * n\". \n",
    "s_data = np.linspace(sigma2_hat.min(), sigma2_hat.max(), 100)\n",
    "s_pdf = 1200*chi2(df=n-1).pdf(s_data*n)\n",
    "plt.plot(s_data, s_pdf, 'k-', lw=2, label='Scaled pdf of ' + r'$\\frac{1}{n} \\, \\chi^2(\\nu=n-1)$');\n",
    "plt.legend();"
   ]
  },
  {
   "cell_type": "markdown",
   "metadata": {},
   "source": [
    "Note that $\\hat{\\sigma}^2$ is distributed Chi-Squared.\n",
    "\n",
    "More information for how Chi-squared distribution works: https://www.youtube.com/watch?v=dXB3cUGnaxQ&t=2s"
   ]
  },
  {
   "cell_type": "markdown",
   "metadata": {},
   "source": [
    "Now, let's use the 10,000 repeated trials to numerically estimate the (frequentist) bias and variance of the ML estimate $\\hat{\\sigma}^2$ of the Gaussian variance parameter. "
   ]
  },
  {
   "cell_type": "code",
   "execution_count": 88,
   "metadata": {},
   "outputs": [],
   "source": [
    "avg_sigma2_hat = np.mean(sigma2_hat)\n",
    "var_sigma2_hat = np.std(sigma2_hat)**2"
   ]
  },
  {
   "cell_type": "markdown",
   "metadata": {},
   "source": [
    "If we compare the empirical results frequentist  with the theorical bias and variance using the formula derived for this purpose above. We get that the numerical estimates are very very close:"
   ]
  },
  {
   "cell_type": "code",
   "execution_count": 89,
   "metadata": {},
   "outputs": [
    {
     "name": "stdout",
     "output_type": "stream",
     "text": [
      "Theoretical Bias:  -0.2  Freq. Estimated Bias:  -0.2005383876054163\n",
      "Theoretical Variance:  0.32  Freq. Estimated Variance:  0.31806882398796954\n",
      "Conclusion: The empirical and theoretical values are very close!\n"
     ]
    }
   ],
   "source": [
    "true_sigma2 = 1.\n",
    "\n",
    "\n",
    "theo_bias = -true_sigma2/n # Important! n = 5, not 10k\n",
    "emp_bias =  avg_sigma2_hat - true_sigma2\n",
    "\n",
    "print('Theoretical Bias: ', theo_bias, ' Freq. Estimated Bias: ', emp_bias)\n",
    "\n",
    "theo_var = 2 * (n - 1) * true_sigma2**2 / n**2 # Important! n = 5, not 10k\n",
    "emp_var =  var_sigma2_hat\n",
    "\n",
    "print('Theoretical Variance: ', theo_var, ' Freq. Estimated Variance: ', emp_var)\n",
    "\n",
    "print('Conclusion: The empirical and theoretical values are very close!')"
   ]
  }
 ],
 "metadata": {
  "kernelspec": {
   "display_name": "Python 3",
   "language": "python",
   "name": "python3"
  },
  "language_info": {
   "codemirror_mode": {
    "name": "ipython",
    "version": 3
   },
   "file_extension": ".py",
   "mimetype": "text/x-python",
   "name": "python",
   "nbconvert_exporter": "python",
   "pygments_lexer": "ipython3",
   "version": "3.7.4"
  }
 },
 "nbformat": 4,
 "nbformat_minor": 4
}
